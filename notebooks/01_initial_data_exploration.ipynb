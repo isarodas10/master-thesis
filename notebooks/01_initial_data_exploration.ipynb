{
  "cells": [
    {
      "cell_type": "markdown",
      "metadata": {},
      "source": [
        "# Notebook 1: Initial Data Exploration\n",
        "\n",
        "**Adolescent Sexual Behavior Survey - Barú, Colombia**\n",
        "\n",
        "This notebook presents the initial exploration of survey data collected from adolescents (ages 13-17) in rural Barú, Colombia. The analysis focuses on understanding sexual behavior patterns, missing data structures, and preparing for Latent Class Analysis.\n",
        "\n",
        "---\n",
        "\n",
        "## Research Context\n",
        "\n",
        "**Research Question:** What distinct sexual behavior profiles exist among rural adolescents, and how do individual attributes and social network characteristics predict membership in these profiles?\n",
        "\n",
        "**Study Design:**\n",
        "- **Sample:** N = 242 adolescents (ages 13-17)\n",
        "- **Location:** Rural schools in Barú, Colombia\n",
        "- **Data Collection:** April 2019\n",
        "- **Survey:** 15 questions on sexual behavior, attitudes, and risk perceptions\n",
        "- **Ethics:** IRB approved, parental consent + adolescent assent\n",
        "\n",
        "---\n",
        "\n",
        "**Author:** Isabella Rodas  \n",
        "**Institution:** Universidad de los Andes  \n",
        "**Date:** 2021 (Analysis) | October 2025 (Documentation)\n"
      ]
    },
    {
      "cell_type": "markdown",
      "metadata": {},
      "source": [
        "## Table of Contents\n",
        "\n",
        "1. [Setup & Imports](#setup)\n",
        "2. [Load Data](#load)\n",
        "3. [Survey Questions](#questions)\n",
        "4. [Missing Data Analysis](#missing)\n",
        "5. [Demographic Overview](#demographics)\n",
        "6. [Key Variable Distributions](#distributions)\n",
        "7. [Summary & Next Steps](#summary)\n"
      ]
    },
    {
      "cell_type": "markdown",
      "metadata": {},
      "source": [
        "## 1. Setup & Imports <a id='setup'></a>\n"
      ]
    },
    {
      "cell_type": "code",
      "execution_count": null,
      "metadata": {},
      "outputs": [],
      "source": [
        "import pandas as pd\n",
        "import numpy as np\n",
        "import matplotlib.pyplot as plt\n",
        "import seaborn as sns\n",
        "import missingno as msno\n",
        "import warnings\n",
        "import sys\n",
        "\n",
        "# Add parent directory to path for module imports\n",
        "sys.path.append('..')\n",
        "\n",
        "warnings.filterwarnings('ignore')\n",
        "\n",
        "# Set visualization style\n",
        "sns.set_style('whitegrid')\n",
        "sns.set_palette('husl')\n",
        "plt.rcParams['figure.figsize'] = (14, 6)\n",
        "plt.rcParams['font.size'] = 11\n",
        "\n",
        "print(\"✓ Libraries loaded successfully\")\n"
      ]
    },
    {
      "cell_type": "markdown",
      "metadata": {},
      "source": [
        "## 2. Load Data <a id='load'></a>\n",
        "\n",
        "**Note:** Raw data files are not included in this public repository due to privacy and ethics requirements. The analysis uses anonymized participant data from the 2019 study. See `Data/README.md` for more information.\n"
      ]
    },
    {
      "cell_type": "code",
      "execution_count": null,
      "metadata": {},
      "outputs": [],
      "source": [
        "# Load survey data\n",
        "data = pd.read_excel('../Data/0_Raw/2. Participants attributes.xlsx', \n",
        "                     sheet_name='IsBaru_Consolidado')\n",
        "\n",
        "print(f\"Dataset loaded successfully!\")\n",
        "print(f\"Shape: {data.shape[0]} participants × {data.shape[1]} variables\")\n",
        "print(f\"\\nFirst few column names:\")\n",
        "print(data.columns[:10].tolist())\n"
      ]
    },
    {
      "cell_type": "markdown",
      "metadata": {},
      "source": [
        "## 3. Survey Questions <a id='questions'></a>\n",
        "\n",
        "The survey consists of **15 key questions** covering sexual behavior, attitudes, and risk perceptions among adolescents.\n",
        "\n",
        "### Question Mapping\n",
        "\n",
        "Below are the survey questions used in this analysis (Spanish original with English translation):\n"
      ]
    },
    {
      "cell_type": "code",
      "execution_count": null,
      "metadata": {},
      "outputs": [],
      "source": [
        "# Define survey questions\n",
        "questions = {\n",
        "    'Q3.11': 'Sex / Sexo',\n",
        "    'Q3.5': 'Age / Edad',\n",
        "    'Q11.11': 'Partnership status / Estado de pareja',\n",
        "    'Q11.39': 'Do you understand what is sexual intercourse? / ¿Entiendes qué es tener relaciones sexuales?',\n",
        "    'Q11.40': 'Have you had sexual intercourse? / ¿Has tenido relaciones sexuales?',\n",
        "    'Q11.41': 'How old were you when you had your first sexual intercourse? / ¿Qué edad tenías en tu primera relación sexual?',\n",
        "    'Q11.44': 'The first time you had sex, was it under the influence of alcohol or drugs? / ¿La primera vez tuviste sexo bajo influencia de alcohol o drogas?',\n",
        "    'Q11.42': 'The first time you had sex, did you or your partner do anything to prevent pregnancy? / ¿La primera vez, tú o tu pareja hicieron algo para prevenir el embarazo?',\n",
        "    'Q11.45': 'Have you had sex with your partner? / ¿Has tenido sexo con tu pareja?',\n",
        "    'Q11.46': 'Do you feel that having sex with your partner allows you to have a closer relationship? / ¿Sientes que tener sexo con tu pareja permite tener una relación más cercana?',\n",
        "    'Q11.47': 'How concerned are/were you about getting a sexually transmitted disease from your partner? / ¿Qué tan preocupado estás/estuviste por contraer una ETS de tu pareja?',\n",
        "    'Q11.48': 'How concerned are/were you about getting pregnant with your partner? / ¿Qué tan preocupado estás/estuviste por quedar embarazada con tu pareja?',\n",
        "    'Q11.49': 'Are you or your partner doing something to avoid pregnancy? / ¿Tú o tu pareja están haciendo algo para evitar el embarazo?',\n",
        "    'Q11.53': 'Do you think you are going to have sex with someone in the next year? / ¿Crees que vas a tener sexo con alguien en el próximo año?'\n",
        "}\n",
        "\n",
        "# Select relevant columns\n",
        "question_ids = ['ID'] + list(questions.keys())\n",
        "survey_data = data[question_ids].copy()\n",
        "\n",
        "# Display questions\n",
        "print(\"Survey Questions:\\n\" + \"=\"*80)\n",
        "for i, (qid, question) in enumerate(questions.items(), 1):\n",
        "    print(f\"{i:2d}. {qid}: {question}\")\n",
        "    \n",
        "print(f\"\\n✓ Selected {len(questions)} questions for analysis\")\n"
      ]
    },
    {
      "cell_type": "code",
      "execution_count": null,
      "metadata": {},
      "outputs": [],
      "source": [
        "# Rename columns for easier analysis\n",
        "column_names = ['ID', 'Sex', 'Age', 'Partner_status', 'Understand', 'Had_sex', \n",
        "                'Age_sex', 'Sex_under_influence', 'Pregnancy_prevention', \n",
        "                'Sex_with_partner', 'Sex_strengthen_relationship', \n",
        "                'STD_preocupation', 'Pregnancy_preocupation', \n",
        "                'Avoid_pregnancy', 'Sex_within_year']\n",
        "\n",
        "survey_data.columns = column_names\n",
        "\n",
        "print(f\"Dataset shape: {survey_data.shape}\")\n",
        "survey_data.head(10)\n"
      ]
    },
    {
      "cell_type": "markdown",
      "metadata": {},
      "source": [
        "## 4. Missing Data Analysis <a id='missing'></a>\n",
        "\n",
        "Understanding missing data patterns is crucial for this study. Many questions have systematic skip logic (e.g., participants who haven't had sex skip questions about sexual experiences).\n"
      ]
    },
    {
      "cell_type": "code",
      "execution_count": null,
      "metadata": {},
      "outputs": [],
      "source": [
        "# Missing data visualization\n",
        "fig, ax = plt.subplots(figsize=(16, 8))\n",
        "msno.matrix(survey_data, figsize=(16, 8), fontsize=10, sparkline=False, ax=ax)\n",
        "plt.title('Missing Data Patterns in Survey Responses', fontsize=16, pad=20)\n",
        "plt.tight_layout()\n",
        "plt.show()\n",
        "\n",
        "print(\"\\n📊 Key Observation: Sexual experience questions show high missingness due to skip logic\")\n"
      ]
    },
    {
      "cell_type": "code",
      "execution_count": null,
      "metadata": {},
      "outputs": [],
      "source": [
        "# Calculate missing data statistics\n",
        "missing_stats = pd.DataFrame({\n",
        "    'Variable': survey_data.columns,\n",
        "    'Missing_Count': survey_data.isnull().sum(),\n",
        "    'Missing_Percent': (survey_data.isnull().sum() / len(survey_data) * 100).round(2),\n",
        "    'Present_Count': survey_data.notnull().sum()\n",
        "}).sort_values('Missing_Percent', ascending=False)\n",
        "\n",
        "# Display table\n",
        "print(\"Missing Data Summary:\")\n",
        "print(\"=\"*80)\n",
        "print(missing_stats.to_string(index=False))\n",
        "\n",
        "# Identify high-missingness variables\n",
        "high_missing = missing_stats[missing_stats['Missing_Percent'] > 70]\n",
        "print(f\"\\n⚠️  {len(high_missing)} variables have >70% missing data (likely due to skip logic)\")\n"
      ]
    },
    {
      "cell_type": "markdown",
      "metadata": {},
      "source": [
        "## 5. Demographic Overview <a id='demographics'></a>\n"
      ]
    },
    {
      "cell_type": "code",
      "execution_count": null,
      "metadata": {},
      "outputs": [],
      "source": [
        "# Basic demographics\n",
        "print(\"Sample Demographics:\")\n",
        "print(\"=\"*80)\n",
        "print(f\"Total participants: {len(survey_data)}\")\n",
        "print(f\"\\nAge distribution:\")\n",
        "print(survey_data['Age'].value_counts().sort_index())\n",
        "print(f\"\\nSex distribution:\")\n",
        "print(survey_data['Sex'].value_counts())\n"
      ]
    },
    {
      "cell_type": "code",
      "execution_count": null,
      "metadata": {},
      "outputs": [],
      "source": [
        "# Visualize demographics\n",
        "fig, axes = plt.subplots(1, 2, figsize=(14, 5))\n",
        "\n",
        "# Age distribution\n",
        "age_counts = survey_data['Age'].value_counts().sort_index()\n",
        "axes[0].bar(age_counts.index, age_counts.values, color='steelblue', edgecolor='black', alpha=0.8)\n",
        "axes[0].set_xlabel('Age Code', fontsize=12)\n",
        "axes[0].set_ylabel('Count', fontsize=12)\n",
        "axes[0].set_title('Age Distribution', fontsize=14, fontweight='bold')\n",
        "axes[0].grid(axis='y', alpha=0.3)\n",
        "\n",
        "# Sex distribution  \n",
        "sex_counts = survey_data['Sex'].value_counts()\n",
        "colors = ['#FF6B6B', '#4ECDC4', '#95E1D3']\n",
        "axes[1].bar(range(len(sex_counts)), sex_counts.values, color=colors[:len(sex_counts)], \n",
        "            edgecolor='black', alpha=0.8)\n",
        "axes[1].set_xticks(range(len(sex_counts)))\n",
        "axes[1].set_xticklabels(['Male' if x==1 else 'Female' if x==2 else 'Other' \n",
        "                         for x in sex_counts.index])\n",
        "axes[1].set_ylabel('Count', fontsize=12)\n",
        "axes[1].set_title('Sex/Gender Distribution', fontsize=14, fontweight='bold')\n",
        "axes[1].grid(axis='y', alpha=0.3)\n",
        "\n",
        "plt.tight_layout()\n",
        "plt.show()\n",
        "\n",
        "print(f\"\\n✓ Sample: {len(survey_data)} adolescents (ages 13-17) from rural Barú, Colombia\")\n"
      ]
    },
    {
      "cell_type": "markdown",
      "metadata": {},
      "source": [
        "## 6. Key Variable Distributions <a id='distributions'></a>\n",
        "\n",
        "Let's examine the distribution of key behavioral variables.\n"
      ]
    },
    {
      "cell_type": "code",
      "execution_count": null,
      "metadata": {},
      "outputs": [],
      "source": [
        "# Key behavioral questions\n",
        "key_vars = ['Understand', 'Had_sex', 'Sex_within_year']\n",
        "\n",
        "fig, axes = plt.subplots(1, 3, figsize=(16, 5))\n",
        "\n",
        "for i, var in enumerate(key_vars):\n",
        "    counts = survey_data[var].value_counts().sort_index()\n",
        "    axes[i].bar(counts.index, counts.values, color='teal', edgecolor='black', alpha=0.8)\n",
        "    axes[i].set_xlabel('Response Code', fontsize=11)\n",
        "    axes[i].set_ylabel('Count', fontsize=11)\n",
        "    axes[i].set_title(var.replace('_', ' ').title(), fontsize=13, fontweight='bold')\n",
        "    axes[i].grid(axis='y', alpha=0.3)\n",
        "    \n",
        "plt.tight_layout()\n",
        "plt.show()\n",
        "\n",
        "print(\"Response distributions for key questions (codes need to be interpreted with codebook)\")\n"
      ]
    },
    {
      "cell_type": "markdown",
      "metadata": {},
      "source": [
        "## 7. Correlation Analysis <a id='correlations'></a>\n",
        "\n",
        "**Motivation for Factor Analysis:** Sexual behavior variables are often highly correlated. This high correlation suggests underlying latent factors that can be extracted through Factor Analysis.\n"
      ]
    },
    {
      "cell_type": "code",
      "execution_count": null,
      "metadata": {},
      "outputs": [],
      "source": [
        "# Calculate Spearman correlation (appropriate for ordinal data)\n",
        "numeric_cols = survey_data.select_dtypes(include=[np.number]).drop(columns=['ID'], errors='ignore')\n",
        "corr_matrix = numeric_cols.corr(method='spearman')\n",
        "\n",
        "# Visualize correlation matrix\n",
        "plt.figure(figsize=(14, 11))\n",
        "mask = np.triu(np.ones_like(corr_matrix, dtype=bool), k=1)\n",
        "sns.heatmap(corr_matrix, mask=mask, annot=True, fmt='.2f', cmap='RdBu_r', \n",
        "            center=0, vmin=-1, vmax=1, square=True, linewidths=0.5,\n",
        "            cbar_kws={\"shrink\": 0.8})\n",
        "plt.title('Spearman Correlation Matrix\\n(Ordinal Variables)', fontsize=16, fontweight='bold', pad=20)\n",
        "plt.tight_layout()\n",
        "plt.show()\n",
        "\n",
        "# Count high correlations\n",
        "high_corr = (corr_matrix.abs() > 0.5) & (corr_matrix.abs() < 1.0)\n",
        "n_high_corr = high_corr.sum().sum() // 2  # Divide by 2 for symmetry\n",
        "print(f\"\\n📊 Found {n_high_corr} variable pairs with |correlation| > 0.5\")\n",
        "print(\"\\n💡 High correlations indicate potential underlying factors\")\n",
        "print(\"   → This motivates the use of Factor Analysis to reduce dimensionality\")\n"
      ]
    },
    {
      "cell_type": "markdown",
      "metadata": {},
      "source": [
        "## 8. Summary & Next Steps <a id='summary'></a>\n",
        "\n",
        "### Key Findings from Initial Exploration:\n",
        "\n",
        "1. **Sample:** 242 adolescents (ages 13-17) from rural Barú, Colombia\n",
        "2. **Missing Data:** Significant missingness in sexual experience questions due to systematic skip logic\n",
        "3. **High Correlations:** Many variables are highly correlated (|r| > 0.5)\n",
        "4. **Implication:** Factor Analysis is appropriate to:\n",
        "   - Handle highly correlated variables\n",
        "   - Extract underlying behavioral dimensions\n",
        "   - Reduce dimensionality for clustering\n",
        "\n",
        "---\n",
        "\n",
        "### Next Steps:\n",
        "\n",
        "**Notebook 2:** Data Cleaning & Preprocessing\n",
        "- Handle missing data appropriately (skip logic, imputation)\n",
        "- Recode variables for analysis\n",
        "- Prepare data for Factor Analysis\n",
        "\n",
        "**Notebook 3:** Factor Analysis & Clustering  \n",
        "- Test suitability (Bartlett's, KMO)\n",
        "- Extract factors\n",
        "- Apply 8 clustering methods\n",
        "- Select optimal clustering (5 clusters)\n",
        "\n",
        "---\n",
        "\n",
        "**Analysis conducted:** 2021  \n",
        "**Repository organized:** October 2025\n"
      ]
    }
  ],
  "metadata": {
    "language_info": {
      "name": "python"
    }
  },
  "nbformat": 4,
  "nbformat_minor": 2
}
