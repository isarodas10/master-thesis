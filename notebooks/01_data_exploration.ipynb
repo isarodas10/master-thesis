{
  "cells": [
    {
      "cell_type": "markdown",
      "metadata": {},
      "source": [
        "# Data Exploration: Adolescent Sexual Behavior Survey\n",
        "\n",
        "This notebook performs initial exploration of survey data on adolescent sexual behavior.\n",
        "\n",
        "**Research Question:** What behavioral profiles exist among adolescents regarding sexual activity?\n",
        "\n",
        "**Dataset:** Survey responses from adolescents (13-17 years) in a rural area covering:\n",
        "- Demographics\n",
        "- Sexual behavior and attitudes\n",
        "- Partnership status\n",
        "- Risk perceptions\n",
        "\n",
        "**Author:** Isabella Rodas  \n",
        "**Last Updated:** October 2025\n"
      ]
    },
    {
      "cell_type": "markdown",
      "metadata": {},
      "source": [
        "## 1. Setup & Imports\n"
      ]
    },
    {
      "cell_type": "code",
      "execution_count": null,
      "metadata": {},
      "outputs": [],
      "source": [
        "import pandas as pd\n",
        "import numpy as np\n",
        "import matplotlib.pyplot as plt\n",
        "import seaborn as sns\n",
        "import missingno as msno\n",
        "import warnings\n",
        "import sys\n",
        "sys.path.append('..')\n",
        "warnings.filterwarnings('ignore')\n",
        "\n",
        "# Set visualization defaults\n",
        "sns.set_style('whitegrid')\n",
        "plt.rcParams['figure.figsize'] = (12, 6)\n",
        "\n",
        "print(\"✓ Libraries loaded successfully\")\n"
      ]
    },
    {
      "cell_type": "markdown",
      "metadata": {},
      "source": [
        "## 2. Load and Explore Data\n",
        "\n",
        "**Note:** This notebook requires access to the raw data files. See `Data/README.md` for information about data access.\n"
      ]
    },
    {
      "cell_type": "code",
      "execution_count": null,
      "metadata": {},
      "outputs": [],
      "source": [
        "# Load data - adjust path if needed\n",
        "data = pd.read_excel('../Data/0_Raw/2. Participants attributes.xlsx', \n",
        "                     sheet_name='IsBaru_Consolidado')\n",
        "\n",
        "print(f\"Dataset shape: {data.shape}\")\n",
        "print(f\"Participants: {data.shape[0]} | Variables: {data.shape[1]}\")\n",
        "data.head()\n"
      ]
    },
    {
      "cell_type": "markdown",
      "metadata": {},
      "source": [
        "## Next Steps\n",
        "\n",
        "Continue with:\n",
        "- `02_lca_preprocessing.ipynb` - Missing data handling and preprocessing for LCA\n",
        "- `03_clustering_analysis.ipynb` - K-modes clustering analysis\n",
        "- Then proceed to R scripts in `scripts/` for LCA analysis\n",
        "\n",
        "**For detailed preprocessing code, see the original 2021 analysis notebooks in `original_code/` directory.**\n"
      ]
    }
  ],
  "metadata": {
    "language_info": {
      "name": "python"
    }
  },
  "nbformat": 4,
  "nbformat_minor": 2
}
