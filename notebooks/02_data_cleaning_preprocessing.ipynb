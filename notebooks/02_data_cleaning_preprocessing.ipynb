{
  "cells": [
    {
      "cell_type": "markdown",
      "metadata": {},
      "source": [
        "# Notebook 2: Data Cleaning & Preprocessing\n",
        "\n",
        "**Preparing Data for Factor Analysis**\n",
        "\n",
        "This notebook handles missing data, recodes variables, and prepares the dataset for Factor Analysis. The cleaned data will be used to extract latent factors representing underlying sexual behavior dimensions.\n",
        "\n",
        "---\n",
        "\n",
        "## Objective\n",
        "\n",
        "Transform raw survey data into analysis-ready format by:\n",
        "1. Handling systematic skip logic in survey questions\n",
        "2. Imputing remaining missing values using MICE\n",
        "3. Recoding categorical variables appropriately\n",
        "4. Standardizing response scales\n",
        "5. Exporting clean data for Factor Analysis\n",
        "\n",
        "---\n",
        "\n",
        "**Author:** Isabella Rodas  \n",
        "**Institution:** Universidad de los Andes  \n",
        "**Date:** 2021 (Analysis) | October 2025 (Documentation)\n"
      ]
    }
  ],
  "metadata": {
    "language_info": {
      "name": "python"
    }
  },
  "nbformat": 4,
  "nbformat_minor": 2
}
